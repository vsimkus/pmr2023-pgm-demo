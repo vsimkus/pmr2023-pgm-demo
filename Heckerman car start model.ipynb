{
 "cells": [
  {
   "cell_type": "markdown",
   "id": "1888e342",
   "metadata": {},
   "source": [
    "If you are running this notebook on Google Colab, uncomment and run the following cell to install the required dependencies."
   ]
  },
  {
   "cell_type": "code",
   "execution_count": null,
   "id": "c586092d",
   "metadata": {},
   "outputs": [],
   "source": [
    "# !pip install pgmpy==0.1.21 daft==0.1.2"
   ]
  },
  {
   "cell_type": "code",
   "execution_count": 1,
   "id": "0a45db2e",
   "metadata": {},
   "outputs": [],
   "source": [
    "import matplotlib.pyplot as plt\n",
    "\n",
    "from pgmpy.models import BayesianNetwork\n",
    "from pgmpy.factors.discrete import TabularCPD\n",
    "from pgmpy.inference import VariableElimination"
   ]
  },
  {
   "cell_type": "markdown",
   "id": "793755fc",
   "metadata": {},
   "source": [
    "This is a short notebook illustrating probabilistic graphical modelling (PMG) and inference on a car start Bayesian network [(Heckerman, 1995)](http://tomlr.free.fr/Math%E9matiques/Fichiers%20Claude/Auteurs/AAprov070125/Heckerman%20-%20A%20Tutorial%20On%20Learning%20Bayesian%20Networks.pdf):\n",
    "\n",
    "![Heckerman's car start belief network](./figures/heckerman-car-model.png)\n",
    "\n",
    "This is a simplified model for troubleshooting a car that won't start, where each node represents a variable and directed edges relate causes and effects. For simplicity, we will also assume that each variable is discrete and binary."
   ]
  },
  {
   "cell_type": "markdown",
   "id": "ec3eba7c",
   "metadata": {},
   "source": [
    "## Model"
   ]
  },
  {
   "cell_type": "markdown",
   "id": "e50bbade",
   "metadata": {},
   "source": [
    "We will use [pgmpy](https://github.com/pgmpy/pgmpy) Python library to define the model and perform exact inference on the model.\n",
    "\n",
    "Let us first initialise the PGM defined by the above DAG, and define the possible states."
   ]
  },
  {
   "cell_type": "code",
   "execution_count": 2,
   "id": "a9cb9cfb",
   "metadata": {},
   "outputs": [],
   "source": [
    "car_model = BayesianNetwork(\n",
    "    [\n",
    "        (\"Battery\", \"Gauge\"),\n",
    "        (\"Fuel\", \"Gauge\"),\n",
    "        (\"Fuel\", \"Start\"),\n",
    "        (\"Turn Over\", \"Start\"),\n",
    "        (\"Battery\", \"Turn Over\"),\n",
    "    ]\n",
    ")\n",
    "\n",
    "state_names = {\n",
    "    \"Battery\":      [\"Bad\",     \"Good\"],\n",
    "    \"Fuel\":         [\"Empty\",   \"Not empty\"],\n",
    "    \"Gauge\":        [\"Empty\",   \"Not empty\"],\n",
    "    \"Turn Over\":    [\"No\",      \"Yes\"],\n",
    "    \"Start\":        [\"No\",      \"Yes\"],\n",
    "}"
   ]
  },
  {
   "cell_type": "markdown",
   "id": "a699b1bc",
   "metadata": {},
   "source": [
    "We can now render the model into an image to verify that the representation is correct."
   ]
  },
  {
   "cell_type": "code",
   "execution_count": 3,
   "id": "a298420c",
   "metadata": {},
   "outputs": [
    {
     "data": {
      "image/png": "[encoded data removed]",
      "text/plain": [
       "<Figure size 197.56x204.891 with 1 Axes>"
      ]
     },
     "metadata": {},
     "output_type": "display_data"
    }
   ],
   "source": [
    "pgm_daft = car_model.to_daft()\n",
    "pgm_daft.render()\n",
    "plt.show()"
   ]
  },
  {
   "cell_type": "markdown",
   "id": "a1d52e4e",
   "metadata": {},
   "source": [
    "Next we define the (conditional) probability tables as given in the figure at the top of the notebook:\n",
    "\n",
    "* `variable_card` defines the cardinality of the variable\n",
    "* `values` correspond to the (conditional) probabilities and must sum to 1\n",
    "* `evidence` defines the variables in the conditioning set\n",
    "* `evidence_card` denotes the cardinality of the variables in the conditioning set"
   ]
  },
  {
   "cell_type": "code",
   "execution_count": 4,
   "id": "505fa62a",
   "metadata": {},
   "outputs": [],
   "source": [
    "pt_battery = TabularCPD(variable=\"Battery\", \n",
    "                        variable_card=2,\n",
    "                        values=[[0.02], [0.98]],\n",
    "                        state_names=state_names)\n",
    "pt_fuel = TabularCPD(variable=\"Fuel\", \n",
    "                     variable_card=2, \n",
    "                     values=[[0.05], [0.95]],\n",
    "                     state_names=state_names)\n",
    "\n",
    "cpt_gauge = TabularCPD(\n",
    "    variable=\"Gauge\",\n",
    "    variable_card=2,\n",
    "    values=[[0.99, 0.1, 0.97, 0.04], \n",
    "            [0.01, 0.9, 0.03, 0.96]],\n",
    "    evidence=[\"Battery\", \"Fuel\"],\n",
    "    evidence_card=[2, 2],\n",
    "    state_names=state_names,\n",
    ")\n",
    "\n",
    "cpt_turnover = TabularCPD(\n",
    "    variable=\"Turn Over\",\n",
    "    variable_card=2,\n",
    "    values=[[0.98, 0.03], \n",
    "            [0.02, 0.97]],\n",
    "    evidence=[\"Battery\"],\n",
    "    evidence_card=[2],\n",
    "    state_names=state_names,\n",
    ")\n",
    "\n",
    "cpt_start = TabularCPD(\n",
    "    variable=\"Start\",\n",
    "    variable_card=2,\n",
    "    values=[[1.0, 1.0, 0.92, 0.01], \n",
    "            [0.0, 0.0, 0.08, 0.99]],\n",
    "    evidence=[\"Turn Over\", \"Fuel\"],\n",
    "    evidence_card=[2, 2],\n",
    "    state_names=state_names,\n",
    ")"
   ]
  },
  {
   "cell_type": "markdown",
   "id": "f3b30299",
   "metadata": {},
   "source": [
    "We can print the (conditional) probability tables that we have created just now:"
   ]
  },
  {
   "cell_type": "code",
   "execution_count": 5,
   "id": "a181e33a",
   "metadata": {},
   "outputs": [
    {
     "name": "stdout",
     "output_type": "stream",
     "text": [
      "Battery\n",
      "-------------  ----\n",
      "Battery(Bad)   0.02\n",
      "Battery(Good)  0.98\n",
      "-------------  ----\n",
      "\n",
      "Fuel\n",
      "---------------  ----\n",
      "Fuel(Empty)      0.05\n",
      "Fuel(Not empty)  0.95\n",
      "---------------  ----\n",
      "\n",
      "Gauge\n",
      "----------------  ------------  ---------------  -------------  ---------------\n",
      "Battery           Battery(Bad)  Battery(Bad)     Battery(Good)  Battery(Good)\n",
      "Fuel              Fuel(Empty)   Fuel(Not empty)  Fuel(Empty)    Fuel(Not empty)\n",
      "Gauge(Empty)      0.99          0.1              0.97           0.04\n",
      "Gauge(Not empty)  0.01          0.9              0.03           0.96\n",
      "----------------  ------------  ---------------  -------------  ---------------\n",
      "\n",
      "Turn Over\n",
      "--------------  ------------  -------------\n",
      "Battery         Battery(Bad)  Battery(Good)\n",
      "Turn Over(No)   0.98          0.03\n",
      "Turn Over(Yes)  0.02          0.97\n",
      "--------------  ------------  -------------\n",
      "\n",
      "Start\n",
      "----------  -------------  ---------------  --------------  ---------------\n",
      "Turn Over   Turn Over(No)  Turn Over(No)    Turn Over(Yes)  Turn Over(Yes)\n",
      "Fuel        Fuel(Empty)    Fuel(Not empty)  Fuel(Empty)     Fuel(Not empty)\n",
      "Start(No)   1.0            1.0              0.92            0.01\n",
      "Start(Yes)  0.0            0.0              0.08            0.99\n",
      "----------  -------------  ---------------  --------------  ---------------\n",
      "\n"
     ]
    }
   ],
   "source": [
    "print(pt_battery.variable, pt_battery._make_table_str(), sep='\\n'); print()\n",
    "print(pt_fuel.variable, pt_fuel._make_table_str(), sep='\\n'); print()\n",
    "print(cpt_gauge.variable, cpt_gauge._make_table_str(), sep='\\n'); print()\n",
    "print(cpt_turnover.variable, cpt_turnover._make_table_str(), sep='\\n'); print()\n",
    "print(cpt_start.variable, cpt_start._make_table_str(), sep='\\n'); print()"
   ]
  },
  {
   "cell_type": "markdown",
   "id": "0452c0e4",
   "metadata": {},
   "source": [
    "Now, we associate the Bayesian network with the (conditional) probability tables, and verify that the model is valid (i.e. probabilities sum to one, and the evidence variables are consistent with the model)."
   ]
  },
  {
   "cell_type": "code",
   "execution_count": 6,
   "id": "065cb012",
   "metadata": {},
   "outputs": [
    {
     "data": {
      "text/plain": [
       "True"
      ]
     },
     "execution_count": 6,
     "metadata": {},
     "output_type": "execute_result"
    }
   ],
   "source": [
    "# Associating the parameters with the model structure.\n",
    "car_model.add_cpds(pt_battery, pt_fuel, cpt_gauge, cpt_turnover, cpt_start)\n",
    "\n",
    "# Checking if the cpts are valid for the model.\n",
    "car_model.check_model()"
   ]
  },
  {
   "cell_type": "markdown",
   "id": "25cde50a",
   "metadata": {},
   "source": [
    "## Inference"
   ]
  },
  {
   "cell_type": "markdown",
   "id": "e8856900",
   "metadata": {},
   "source": [
    "We can now perform inference on the Bayesian network `car_model`.\n",
    "\n",
    "To do so we will use [variable elimination](https://en.wikipedia.org/wiki/Variable_elimination).\n",
    "\n"
   ]
  },
  {
   "cell_type": "markdown",
   "id": "dbdf7f57",
   "metadata": {},
   "source": [
    "Let us first ask what is the marginal probability that the car will start, which means we must eliminate all the variables that are not `\"Start\"`. That is we want to know $p(Start)$."
   ]
  },
  {
   "cell_type": "code",
   "execution_count": 7,
   "id": "5247538a",
   "metadata": {},
   "outputs": [
    {
     "name": "stdout",
     "output_type": "stream",
     "text": [
      "+------------+--------------+\n",
      "| Start      |   phi(Start) |\n",
      "+============+==============+\n",
      "| Start(No)  |       0.1018 |\n",
      "+------------+--------------+\n",
      "| Start(Yes) |       0.8982 |\n",
      "+------------+--------------+\n"
     ]
    }
   ],
   "source": [
    "\n",
    "car_inference = VariableElimination(car_model)\n",
    "\n",
    "q = car_inference.query(variables=[\"Start\"])\n",
    "print(q)"
   ]
  },
  {
   "cell_type": "markdown",
   "id": "7daf45b5",
   "metadata": {},
   "source": [
    "It turns out our car is not very great since it doesn't start over 10\\% of the time!"
   ]
  },
  {
   "cell_type": "markdown",
   "id": "3be6b008",
   "metadata": {},
   "source": [
    "Now let's say the card is not starting, what is the probability that there is an issue with the battery? That is we want to know $p(Battery \\mid Start=\\text{No})$."
   ]
  },
  {
   "cell_type": "code",
   "execution_count": 8,
   "id": "d2b522ec",
   "metadata": {},
   "outputs": [
    {
     "name": "stdout",
     "output_type": "stream",
     "text": [
      "+---------------+----------------+\n",
      "| Battery       |   phi(Battery) |\n",
      "+===============+================+\n",
      "| Battery(Bad)  |         0.1928 |\n",
      "+---------------+----------------+\n",
      "| Battery(Good) |         0.8072 |\n",
      "+---------------+----------------+\n"
     ]
    }
   ],
   "source": [
    "q = car_inference.query(variables=[\"Battery\"], evidence={\"Start\": \"No\"})\n",
    "print(q)"
   ]
  },
  {
   "cell_type": "markdown",
   "id": "9313a8d3",
   "metadata": {},
   "source": [
    "So there is still a good chance that the battery is still good. Then, what is the state of our fuel tank given that the car did not start, i.e. $p(Fuel \\mid Start= \\text{No})$? "
   ]
  },
  {
   "cell_type": "code",
   "execution_count": 9,
   "id": "98a32782",
   "metadata": {},
   "outputs": [
    {
     "name": "stdout",
     "output_type": "stream",
     "text": [
      "+-----------------+-------------+\n",
      "| Fuel            |   phi(Fuel) |\n",
      "+=================+=============+\n",
      "| Fuel(Empty)     |      0.4539 |\n",
      "+-----------------+-------------+\n",
      "| Fuel(Not empty) |      0.5461 |\n",
      "+-----------------+-------------+\n"
     ]
    }
   ],
   "source": [
    "q = car_inference.query(variables=[\"Fuel\"], evidence={\"Start\": \"No\"})\n",
    "print(q)"
   ]
  },
  {
   "cell_type": "markdown",
   "id": "f5059aab",
   "metadata": {},
   "source": [
    "Given our model, it seems like the chance that the fuel tank is empty is almost a coin toss."
   ]
  },
  {
   "cell_type": "markdown",
   "id": "399e7634",
   "metadata": {},
   "source": [
    "We can also ask queries about multiple variables at the time, for example $p(Battery, Fuel \\mid Start=\\text{No})$:"
   ]
  },
  {
   "cell_type": "code",
   "execution_count": 10,
   "id": "e7efce08",
   "metadata": {},
   "outputs": [
    {
     "name": "stdout",
     "output_type": "stream",
     "text": [
      "+---------------+-----------------+---------------------+\n",
      "| Battery       | Fuel            |   phi(Battery,Fuel) |\n",
      "+===============+=================+=====================+\n",
      "| Battery(Bad)  | Fuel(Empty)     |              0.0098 |\n",
      "+---------------+-----------------+---------------------+\n",
      "| Battery(Bad)  | Fuel(Not empty) |              0.1830 |\n",
      "+---------------+-----------------+---------------------+\n",
      "| Battery(Good) | Fuel(Empty)     |              0.4441 |\n",
      "+---------------+-----------------+---------------------+\n",
      "| Battery(Good) | Fuel(Not empty) |              0.3631 |\n",
      "+---------------+-----------------+---------------------+\n"
     ]
    }
   ],
   "source": [
    "q = car_inference.query(variables=[\"Battery\", \"Fuel\"], evidence={\"Start\": \"No\"})\n",
    "print(q)"
   ]
  },
  {
   "cell_type": "markdown",
   "id": "c79c1799",
   "metadata": {},
   "source": [
    "Hence, given that our car didn't start, it seems most likely that our fuel tank is empty followed by a sporadic chance of our car failing to start for some other reasons. "
   ]
  },
  {
   "cell_type": "markdown",
   "id": "13c1a218",
   "metadata": {},
   "source": [
    "## Independencies"
   ]
  },
  {
   "cell_type": "markdown",
   "id": "c1ec45d5",
   "metadata": {},
   "source": [
    "We can also get a list of more general properties of our car in the form of an independencies. For example, Given the state of the battery we know that the state of the \"Gauge\" and \"Turn Over\" are conditionally independent. "
   ]
  },
  {
   "cell_type": "code",
   "execution_count": 11,
   "id": "473bb8bb",
   "metadata": {},
   "outputs": [
    {
     "data": {
      "text/plain": [
       "(Battery ⟂ Fuel)\n",
       "(Battery ⟂ Fuel, Start | Turn Over)\n",
       "(Battery ⟂ Start | Turn Over, Fuel)\n",
       "(Battery ⟂ Fuel | Turn Over, Start)\n",
       "(Battery ⟂ Start | Turn Over, Gauge, Fuel)\n",
       "(Fuel ⟂ Turn Over, Battery)\n",
       "(Fuel ⟂ Battery | Turn Over)\n",
       "(Fuel ⟂ Turn Over | Battery)\n",
       "(Fuel ⟂ Battery | Turn Over, Start)\n",
       "(Fuel ⟂ Turn Over | Battery, Gauge)\n",
       "(Turn Over ⟂ Fuel)\n",
       "(Turn Over ⟂ Gauge, Fuel | Battery)\n",
       "(Turn Over ⟂ Fuel | Battery, Gauge)\n",
       "(Turn Over ⟂ Gauge | Battery, Fuel)\n",
       "(Turn Over ⟂ Gauge | Battery, Fuel, Start)\n",
       "(Gauge ⟂ Turn Over | Battery)\n",
       "(Gauge ⟂ Start | Turn Over, Fuel)\n",
       "(Gauge ⟂ Turn Over, Start | Battery, Fuel)\n",
       "(Gauge ⟂ Start | Turn Over, Battery, Fuel)\n",
       "(Gauge ⟂ Turn Over | Battery, Fuel, Start)\n",
       "(Start ⟂ Battery | Turn Over)\n",
       "(Start ⟂ Battery, Gauge | Turn Over, Fuel)\n",
       "(Start ⟂ Gauge | Battery, Fuel)\n",
       "(Start ⟂ Gauge | Turn Over, Battery, Fuel)\n",
       "(Start ⟂ Battery | Turn Over, Gauge, Fuel)"
      ]
     },
     "execution_count": 11,
     "metadata": {},
     "output_type": "execute_result"
    }
   ],
   "source": [
    "car_model.get_independencies()"
   ]
  },
  {
   "cell_type": "code",
   "execution_count": null,
   "id": "66ad0366",
   "metadata": {},
   "outputs": [],
   "source": []
  }
 ],
 "metadata": {
  "interpreter": {
   "hash": "e736250fc1e7f5ce770e7387cfd9656e91b69baea3fc91221294867cdb1e0147"
  },
  "kernelspec": {
   "display_name": "Python 3 (ipykernel)",
   "language": "python",
   "name": "python3"
  },
  "language_info": {
   "codemirror_mode": {
    "name": "ipython",
    "version": 3
   },
   "file_extension": ".py",
   "mimetype": "text/x-python",
   "name": "python",
   "nbconvert_exporter": "python",
   "pygments_lexer": "ipython3",
   "version": "3.10.8"
  }
 },
 "nbformat": 4,
 "nbformat_minor": 5
}
